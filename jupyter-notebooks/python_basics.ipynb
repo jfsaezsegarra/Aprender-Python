{
  "cells": [
    {
      "cell_type": "markdown",
      "id": "541944b6",
      "metadata": {
        "id": "541944b6"
      },
      "source": [
        "[![Open In Colab](https://colab.research.google.com/assets/colab-badge.svg)](https://colab.research.google.com/github/zero-to-mastery/Complete-Python-Developer-Manual/blob/main/jupyter-notebooks/python_basics.ipynb)"
      ]
    },
    {
      "cell_type": "markdown",
      "id": "a223de83",
      "metadata": {
        "id": "a223de83"
      },
      "source": [
        "To get the most out of this course, follow along with Andrei and code along with the videos. The course will go over how to install Python on your computer later. To start, you can use Python in [Repl.it](https://replit.com/)."
      ]
    },
    {
      "cell_type": "markdown",
      "id": "dbdd5340",
      "metadata": {
        "id": "dbdd5340"
      },
      "source": [
        "## Learning Python\n",
        "\n",
        "There are four key things you need to master for learning a programming language, including Python:\n",
        "1. Terms: things like statements, variables, etc. so you can talk to other programmers\n",
        "2. Data types: values a program can hold to store information\n",
        "3. Actions: programming is a way to tell our machines how to store and retrieve data and perform actions on that data\n",
        "4. Best practices: we need to learn the good ways to write programs with a solid structure"
      ]
    },
    {
      "cell_type": "markdown",
      "id": "f8e6be39",
      "metadata": {
        "id": "f8e6be39"
      },
      "source": [
        "## Python Data Types\n",
        "We will use [Repl.it](https://replit.com/) to write our first Python code so we don't have to worry about installation at first.\n",
        "\n",
        "Python has several data types. We'll list them out and then discuss them individually. Notice that the REPL will highlight these data types, which clues us in that there is something special about them.\n",
        "\n",
        "A data type represents a value in Python, and writing a program allows us to take actions on these data types. Examples of actions include creating, changing/manipulating, storing, and removing data types.\n",
        "\n",
        "Python Data Types:\n",
        "- `int`: integer (a whole number)\n",
        "- `float`: floating point number\n",
        "- `bool`: boolean (True or False)\n",
        "- `str`: string\n",
        "- `list`\n",
        "- `tuple`\n",
        "- `set`\n",
        "- `dict`\n",
        "- `None`: the absence of value\n",
        "\n",
        "We can also create our own custom data types using something called \"classes\". We'll explore how to do this later in the course.\n",
        "\n",
        "We also have specialized data types. They are special packages and modules we can use from libraries. They're a little something extra, an extension, beyond a standard Python data type."
      ]
    },
    {
      "cell_type": "markdown",
      "id": "c1ec26da",
      "metadata": {
        "id": "c1ec26da"
      },
      "source": [
        "## How to Succeed\n",
        "\n",
        "In order to get the most out of this course, please code along with Andrei throughout the next sections. Hands-on practice is the best way to develop your skills."
      ]
    },
    {
      "cell_type": "markdown",
      "id": "63ab0f8a",
      "metadata": {
        "id": "63ab0f8a"
      },
      "source": [
        "## Numbers\n",
        "\n",
        "This lecture will cover two data types: `int` and `float`. An integer is a number, such as 3, 4, or 5. We can use integers to perform mathematical operations in a program. The following code prints new numbers based on the mathematical operations we're performing on two whole numbers.\n",
        "\n",
        "A `float` is a floating point number, or a number with a decimal point, such as 0.5. We need to make this distinction because a float takes up more space in memory compared to an integer on our machines. Adding an integer and a float will result in a float as will adding two floats together, even if the result is a whole number. For more information on floating point numbers, check out this [Floating Point Numbers video](https://www.youtube.com/watch?v=PZRI1IfStY0).\n",
        "\n",
        "If the syntax is intimidating, don't worry! As we work with these concepts more, it will become more familiar. And, if you're ever confused about a Python data type or anything else that has to do with the language, you can learn more about it in the [Python documentation](https://docs.python.org/3/contents.html)."
      ]
    },
    {
      "cell_type": "code",
      "execution_count": null,
      "id": "5c7188ad",
      "metadata": {
        "id": "5c7188ad",
        "outputId": "e2c4fc00-c4d4-49c4-8e16-1719f96c415f"
      },
      "outputs": [
        {
          "name": "stdout",
          "output_type": "stream",
          "text": [
            "6\n",
            "-2\n",
            "8\n",
            "0.5\n",
            "8\n",
            "0\n",
            "1\n",
            "2\n",
            "<class 'int'>\n",
            "<class 'float'>\n",
            "<class 'float'>\n",
            "<class 'float'>\n",
            "<class 'float'>\n",
            "<class 'int'>\n"
          ]
        }
      ],
      "source": [
        "print(2 + 4) # addition - result is 6\n",
        "print(2 - 4) # subtraction - result is -2\n",
        "print(2 * 4) # multiplication - result is 8\n",
        "print(2 / 4) # division - result is 0.5\n",
        "# print(2 / 0) # division by zero! - this will give us an error!\n",
        "print(2 ** 3) # exponent - 2 to the 3rd power is 8\n",
        "print(3 // 4) # double division returns an integer, rounded down to an integer - result is 0\n",
        "print(5 // 4) # result is 1\n",
        "# The modulo operator represents the remainder of division. 6 divided by 4 is 1 with a remainder of 2.\n",
        "print(6 % 4)\n",
        "# type is another action we can perform to check a data type. Content in inner brackets is evaluated first\n",
        "print(type(2 + 4)) # integer\n",
        "print(type(2 / 4)) # float\n",
        "print(type(5.001)) # float\n",
        "print(type(10 + 1.1)) # float\n",
        "print(type(9.9 + 1.1)) # float\n",
        "print(type(0)) # integer"
      ]
    },
    {
      "cell_type": "markdown",
      "id": "e5bf3c30",
      "metadata": {
        "id": "e5bf3c30"
      },
      "source": [
        "## Math Functions"
      ]
    },
    {
      "cell_type": "markdown",
      "id": "c7c7f051",
      "metadata": {
        "id": "c7c7f051"
      },
      "source": [
        "There are specific math functions built into Python that we can use on integers and floating point numbers. Functions are actions we can take on data, such as `print()` and `type()`. Try the following out in your REPL.\n",
        "\n",
        "See this article on [Python Mathematical Functions](https://www.programiz.com/python-programming/modules/math) for more and try Googling for Python math functions as well. Also, keep in mind that you'll never need all of the math functions in Python. We'll go over some of the important once in this course."
      ]
    },
    {
      "cell_type": "code",
      "execution_count": null,
      "id": "5a569317",
      "metadata": {
        "id": "5a569317",
        "outputId": "a9079b79-6012-49a1-d6d3-3148c0dbe377"
      },
      "outputs": [
        {
          "name": "stdout",
          "output_type": "stream",
          "text": [
            "3\n",
            "4\n",
            "20\n"
          ]
        }
      ],
      "source": [
        "print(round(3.1)) # rounding down the number - result is 3\n",
        "print(round(3.9)) # result is 4\n",
        "print(abs(-20)) # returns absolute value of the argument (no negative numbers)"
      ]
    },
    {
      "cell_type": "markdown",
      "id": "80f5cdd7",
      "metadata": {
        "id": "80f5cdd7"
      },
      "source": [
        "## DEVELOPER FUNDAMENTALS I\n",
        "Developer fundamentals will be sprinkled throughout the course and will go over common mistakes in the hopes that we can avoid them as well as tips on how to be a great Python developer.\n",
        "\n",
        "The first developer fundamental is: Don't read the dictionary. This means, don't worry about every little thing. Look up what we need to in the documentation, but don't try to read or memorize everything. Make sure you understand what exists, what you can use, and learn how to write good Google queries to find the information we need. This ensures we're focusing on the things that actually matter."
      ]
    },
    {
      "cell_type": "markdown",
      "id": "bf33aee2",
      "metadata": {
        "id": "bf33aee2"
      },
      "source": [
        "## Operator Precedence\n",
        "Different operators have precedence over others, like multiplication gets evaluated before addition.\n",
        "\n",
        "Whatever is wrapped in parentheses gets evaluated first. Exponents get evaluated next, then multiplication and division, and finally, addition and subtraction.\n",
        "\n",
        "Try these out in your REPL along with the exercises in the following lecture."
      ]
    },
    {
      "cell_type": "code",
      "execution_count": null,
      "id": "39abbccb",
      "metadata": {
        "scrolled": true,
        "id": "39abbccb",
        "outputId": "b0ebd74f-bc8e-4f89-e3c0-2fa627c0f3bf"
      },
      "outputs": [
        {
          "name": "stdout",
          "output_type": "stream",
          "text": [
            "8\n",
            "21\n"
          ]
        }
      ],
      "source": [
        "print(20 - 3 * 4) # 3 * 4 gets evaluated before 20 - 3 - result is 8\n",
        "print((20 - 3) + 2 ** 2) # result is 21"
      ]
    },
    {
      "cell_type": "markdown",
      "id": "7dbdee3f",
      "metadata": {
        "id": "7dbdee3f"
      },
      "source": [
        "## Bin and Complex\n",
        "\n",
        "There is an extra data type we didn't discuss. It's called `complex` and is a third type of number. We won't focus on it because it's only significant if we're doing complicated math.\n",
        "\n",
        "Integers and floats get stored as binary numbers. There is an action called bin that we can use to return a binary representation of an integer."
      ]
    },
    {
      "cell_type": "code",
      "execution_count": null,
      "id": "1875edd5",
      "metadata": {
        "scrolled": true,
        "id": "1875edd5",
        "outputId": "343240e2-0a97-4179-fdbf-839219dc7e00"
      },
      "outputs": [
        {
          "name": "stdout",
          "output_type": "stream",
          "text": [
            "0b101\n",
            "0b1000\n",
            "5\n"
          ]
        }
      ],
      "source": [
        "print(bin(5)) # binary number for 5 is 101\n",
        "print(bin(8))\n",
        "print(int('0b101', 2)) # convert this base 2 binary number to an integer"
      ]
    },
    {
      "cell_type": "markdown",
      "id": "f957de12",
      "metadata": {
        "id": "f957de12"
      },
      "source": [
        "## Variables\n",
        "All programming languages have variables so that we can store information. Assigning a value is also known as binding. The number below is stored as a binary representation (zeros and ones).\n",
        "\n",
        "The following are best practices to use when writing Python variables:\n",
        "* They should be snake_case\n",
        "* Start with lowercase or underscore\n",
        "* Use letters, numbers, or underscores\n",
        "* They are case-sensitive\n",
        "* Don't overwrite keywords\n",
        "* Make variable names descriptive\n",
        "\n",
        "Other things to be aware of:\n",
        "* Constants should be in capitals, i.e., `PI = 3.14`\n",
        "* There are dunder variables that start with two underscores that should not be assigned\n",
        "* Underscore in Python singnifies a private variable (`_user_iq`)"
      ]
    },
    {
      "cell_type": "code",
      "execution_count": null,
      "id": "86e4a263",
      "metadata": {
        "id": "86e4a263",
        "outputId": "f961a7fe-316f-4dab-bd98-6f6248f33f52"
      },
      "outputs": [
        {
          "name": "stdout",
          "output_type": "stream",
          "text": [
            "47.5\n"
          ]
        }
      ],
      "source": [
        "user_iq = 190\n",
        "user_age = user_iq / 4\n",
        "print(user_age)"
      ]
    },
    {
      "cell_type": "code",
      "execution_count": null,
      "id": "f86b84e0",
      "metadata": {
        "scrolled": true,
        "id": "f86b84e0",
        "outputId": "e584c581-a6e6-450d-a9aa-040b4fec82bd"
      },
      "outputs": [
        {
          "name": "stdout",
          "output_type": "stream",
          "text": [
            "2\n"
          ]
        }
      ],
      "source": [
        "a, b, c = 1, 2, 3\n",
        "print(b)"
      ]
    },
    {
      "cell_type": "markdown",
      "id": "02dfa7a3",
      "metadata": {
        "id": "02dfa7a3"
      },
      "source": [
        "## Expressions vs. Statements\n",
        "\n",
        "An expression is the right side of a statement. A statement is an entire line of code that performs some sort of action.\n",
        "\n",
        "As in the previous example, `user_iq / 4` is an expression. `user_age = user_iq / 4` and `user_iq = 190` are statements."
      ]
    },
    {
      "cell_type": "markdown",
      "id": "06d8700f",
      "metadata": {
        "id": "06d8700f"
      },
      "source": [
        "## Augmented Assignment Operator\n",
        "\n",
        "In the example below, `some_value += 2` makes use of the augmented assignment operator."
      ]
    },
    {
      "cell_type": "code",
      "execution_count": null,
      "id": "579c4e4a",
      "metadata": {
        "id": "579c4e4a"
      },
      "outputs": [],
      "source": [
        "some_value = 5\n",
        "some_value += 2"
      ]
    },
    {
      "cell_type": "markdown",
      "id": "f5023e0e",
      "metadata": {
        "id": "f5023e0e"
      },
      "source": [
        "## Strings (`str`)\n",
        "A string is a piece of text and can be encapsulated in single or double quotes."
      ]
    },
    {
      "cell_type": "code",
      "execution_count": null,
      "id": "ad9535fb",
      "metadata": {
        "id": "ad9535fb",
        "outputId": "82e49c6f-6b4e-422d-a389-2f1982440b78"
      },
      "outputs": [
        {
          "name": "stdout",
          "output_type": "stream",
          "text": [
            "<class 'str'>\n"
          ]
        }
      ],
      "source": [
        "print(type('hellooooo'))"
      ]
    },
    {
      "cell_type": "code",
      "execution_count": null,
      "id": "abf5ab83",
      "metadata": {
        "id": "abf5ab83"
      },
      "outputs": [],
      "source": [
        "username = 'supercoder'\n",
        "password = 'supersecret'\n",
        "long_string = '''\n",
        "WOW\n",
        " 00\n",
        "---\n",
        "'''"
      ]
    },
    {
      "cell_type": "code",
      "execution_count": null,
      "id": "65e6a13e",
      "metadata": {
        "id": "65e6a13e",
        "outputId": "1046a60d-9854-4564-cdf4-fa0cb5eedb7c"
      },
      "outputs": [
        {
          "name": "stdout",
          "output_type": "stream",
          "text": [
            "\n",
            "WOW\n",
            " 00\n",
            "---\n",
            "\n"
          ]
        }
      ],
      "source": [
        "print(long_string)"
      ]
    },
    {
      "cell_type": "markdown",
      "id": "f11ce78a",
      "metadata": {
        "id": "f11ce78a"
      },
      "source": [
        "## String Concatenation\n",
        "\n",
        "String concatenation is simply adding strings together. This only works with strings in Python. If we added the number `5 + \"hello\"`, we would get a TypeError."
      ]
    },
    {
      "cell_type": "code",
      "execution_count": null,
      "id": "360bec82",
      "metadata": {
        "id": "360bec82",
        "outputId": "b96af3c8-42ce-401f-9175-ead0d9159f8b"
      },
      "outputs": [
        {
          "name": "stdout",
          "output_type": "stream",
          "text": [
            "hellooooo Andrei\n"
          ]
        }
      ],
      "source": [
        "print('hellooooo' + ' Andrei')"
      ]
    },
    {
      "cell_type": "markdown",
      "id": "0367f71a",
      "metadata": {
        "id": "0367f71a"
      },
      "source": [
        "## Type Conversion\n",
        "With Python, we can convert one data type to another. For instance, we can convert a string to an integer."
      ]
    },
    {
      "cell_type": "code",
      "execution_count": null,
      "id": "f0ad0c1a",
      "metadata": {
        "id": "f0ad0c1a",
        "outputId": "56c72b8b-e6ab-407d-ca78-26c98f0563f0"
      },
      "outputs": [
        {
          "name": "stdout",
          "output_type": "stream",
          "text": [
            "<class 'str'>\n"
          ]
        }
      ],
      "source": [
        "print(type(str(100)))"
      ]
    },
    {
      "cell_type": "code",
      "execution_count": null,
      "id": "7c20a0b0",
      "metadata": {
        "id": "7c20a0b0",
        "outputId": "973ae1aa-6a24-4e37-b103-2a844732be17"
      },
      "outputs": [
        {
          "name": "stdout",
          "output_type": "stream",
          "text": [
            "<class 'int'>\n"
          ]
        }
      ],
      "source": [
        "print(type(int(str(100))))"
      ]
    },
    {
      "cell_type": "markdown",
      "id": "cff587dd",
      "metadata": {
        "id": "cff587dd"
      },
      "source": [
        "## Escape Sequence\n",
        "The following are escape sequences -- a backslash -- that allows us to interpret whatever comes after it as a string."
      ]
    },
    {
      "cell_type": "code",
      "execution_count": null,
      "id": "ad66d0fa",
      "metadata": {
        "id": "ad66d0fa",
        "outputId": "ff75cdfd-62c1-47c9-ddf1-c5c4fa0e7428"
      },
      "outputs": [
        {
          "name": "stdout",
          "output_type": "stream",
          "text": [
            "It's kind of sunny\n"
          ]
        }
      ],
      "source": [
        "weather = 'It\\'s kind of sunny'\n",
        "print(weather)"
      ]
    },
    {
      "cell_type": "code",
      "execution_count": null,
      "id": "e235b9df",
      "metadata": {
        "id": "e235b9df",
        "outputId": "6b91d1b8-3fc6-414d-dc9a-d05c3fc5a372"
      },
      "outputs": [
        {
          "name": "stdout",
          "output_type": "stream",
          "text": [
            "\t weather\n"
          ]
        }
      ],
      "source": [
        "print('\\t weather')"
      ]
    },
    {
      "cell_type": "code",
      "execution_count": null,
      "id": "0b7c9d83",
      "metadata": {
        "id": "0b7c9d83",
        "outputId": "c2d76f37-e9bf-460c-84c8-d64a81ae8934"
      },
      "outputs": [
        {
          "name": "stdout",
          "output_type": "stream",
          "text": [
            "--\n",
            "Hope you have a good day\n"
          ]
        }
      ],
      "source": [
        "print('--\\nHope you have a good day')"
      ]
    },
    {
      "cell_type": "markdown",
      "id": "166d1d2e",
      "metadata": {
        "id": "166d1d2e"
      },
      "source": [
        "## Formatted Strings\n",
        "Formatted strings allow us to use strings in a dynamic way instead of hard-coding everything. This is important when we are writing programs to work with users and with databases.\n",
        "\n",
        "In general, the formatted string is recommended now (f-string) versus `.format`. Try the exercises below in your own REPL."
      ]
    },
    {
      "cell_type": "code",
      "execution_count": null,
      "id": "784d1e22",
      "metadata": {
        "id": "784d1e22",
        "outputId": "fb906cb5-6794-4d02-8a8a-13b06188aff9"
      },
      "outputs": [
        {
          "name": "stdout",
          "output_type": "stream",
          "text": [
            "Hi, Johnny\n",
            "Hi Johnny. You are 55 years old.\n",
            "Hi Johnny. You are 55 years old.\n",
            "Hi Johnny. You are 55 years old.\n"
          ]
        }
      ],
      "source": [
        "name = 'Johnny'\n",
        "age = 55\n",
        "print(\"Hi, \" + name)\n",
        "print(f\"Hi {name}. You are {age} years old.\") # preferred - available from Python 3.6\n",
        "print(\"Hi {}. You are {} years old.\".format(name, age)) # Python 3.5 and below syntax\n",
        "print(\"Hi {0}. You are {1} years old.\".format(name, age))"
      ]
    },
    {
      "cell_type": "markdown",
      "id": "192149dc",
      "metadata": {
        "id": "192149dc"
      },
      "source": [
        "## String Indexes\n",
        "\n",
        "`str` is an ordered sequence of characters that are stored in memory in same order and can be accessed by indeces."
      ]
    },
    {
      "cell_type": "code",
      "execution_count": null,
      "id": "a0a399cd",
      "metadata": {
        "id": "a0a399cd",
        "outputId": "94edb568-b8e8-48ba-d3e0-1bf0c4aa23a6"
      },
      "outputs": [
        {
          "name": "stdout",
          "output_type": "stream",
          "text": [
            "A\n",
            "An\n",
            "Ad\n",
            "ndrei\n",
            "And\n",
            "Ade\n",
            "Andrei\n",
            "e\n",
            "ierdnA\n"
          ]
        }
      ],
      "source": [
        "name = \"Andrei\"\n",
        "print(name[0])\n",
        "print(name[0:2])\n",
        "print(name[0:4:2])\n",
        "print(name[1:])\n",
        "print(name[:3])\n",
        "print(name[::2])\n",
        "print(name[::1])\n",
        "print(name[-2])\n",
        "print(name[::-1]) # reverse a string"
      ]
    },
    {
      "cell_type": "markdown",
      "id": "ceeff2b6",
      "metadata": {
        "id": "ceeff2b6"
      },
      "source": [
        "## Immutability\n",
        "Strings are immutable in Python. If we reassign a string in Python, it will overwrite the original string.\n",
        "`[start:stop:step]` is string slicing."
      ]
    },
    {
      "cell_type": "markdown",
      "id": "aacac8f9",
      "metadata": {
        "id": "aacac8f9"
      },
      "source": [
        "## Built-In Functions and Methods\n",
        "\n",
        "We have been learning about built-in functions that Python can take on data, such as `str()`, `int()`, `type()`, `print()`, and `float()`. Some resources for built-in functions are [Python String Methods](https://www.w3schools.com/python/python_ref_string.asp) [Built-in Functions](https://docs.python.org/3/library/functions.html)\n"
      ]
    },
    {
      "cell_type": "code",
      "execution_count": null,
      "id": "04d68a5e",
      "metadata": {
        "id": "04d68a5e",
        "outputId": "56f0770b-6895-4c84-b04c-0f407305fb86"
      },
      "outputs": [
        {
          "name": "stdout",
          "output_type": "stream",
          "text": [
            "9\n"
          ]
        }
      ],
      "source": [
        "print(len(\"hellooooo\"))"
      ]
    },
    {
      "cell_type": "code",
      "execution_count": null,
      "id": "165b7ad5",
      "metadata": {
        "id": "165b7ad5",
        "outputId": "99ddd023-d94e-460e-9998-746ae3670887"
      },
      "outputs": [
        {
          "name": "stdout",
          "output_type": "stream",
          "text": [
            "hellooooo\n",
            "hellooooo\n"
          ]
        }
      ],
      "source": [
        "greet = \"hellooooo\"\n",
        "print(greet[:])\n",
        "print(greet[0:len(greet)])"
      ]
    },
    {
      "cell_type": "markdown",
      "id": "1a8d9daf",
      "metadata": {
        "id": "1a8d9daf"
      },
      "source": [
        "A good code editor will show available methods after we add dot notation."
      ]
    },
    {
      "cell_type": "code",
      "execution_count": null,
      "id": "8010d6cf",
      "metadata": {
        "id": "8010d6cf",
        "outputId": "1d3e97da-dd51-492e-aa57-dbaf902464d1"
      },
      "outputs": [
        {
          "name": "stdout",
          "output_type": "stream",
          "text": [
            "TO BE OR NOT TO BE\n",
            "To be or not to be\n",
            "3\n",
            "to me or not to me\n",
            "to be or not to be\n"
          ]
        }
      ],
      "source": [
        "quote = \"to be or not to be\"\n",
        "print(quote.upper())\n",
        "print(quote.capitalize())\n",
        "print(quote.find('be')) # index of the word 'be'\n",
        "print(quote.replace('be', 'me')) # replace all occurances of 'be' with 'me'\n",
        "print(quote) # after the code above prints, it is removed from memory. The original string is not modified"
      ]
    },
    {
      "cell_type": "markdown",
      "id": "d595c60c",
      "metadata": {
        "id": "d595c60c"
      },
      "source": [
        "## Booleans\n",
        "A boolean can either be set to true or false. We can use them to control the flow of our program."
      ]
    },
    {
      "cell_type": "code",
      "execution_count": null,
      "id": "b7da5b70",
      "metadata": {
        "id": "b7da5b70",
        "outputId": "31b040d1-8826-41b5-b86a-239bdad88ce4"
      },
      "outputs": [
        {
          "name": "stdout",
          "output_type": "stream",
          "text": [
            "True\n"
          ]
        }
      ],
      "source": [
        "name = \"Andrei\"\n",
        "is_cool = True\n",
        "print(is_cool)"
      ]
    },
    {
      "cell_type": "code",
      "execution_count": null,
      "id": "9ccd30b0",
      "metadata": {
        "id": "9ccd30b0",
        "outputId": "5d546453-fcaf-48f7-9417-005aadd05d69"
      },
      "outputs": [
        {
          "name": "stdout",
          "output_type": "stream",
          "text": [
            "True\n",
            "False\n"
          ]
        }
      ],
      "source": [
        "# convert integers into boolean values\n",
        "print(bool(1))\n",
        "print(bool(0))"
      ]
    },
    {
      "cell_type": "markdown",
      "id": "9f433135",
      "metadata": {
        "id": "9f433135"
      },
      "source": [
        "## DEVELOPER FUNDAMENTALS II\n",
        "As soon as Python sees a #, it adds a comment.\n",
        "\n",
        "Guidelines for comments:\n",
        "* When you comment your code, you're adding valuable content to help another programmer or yourself when you review it later.\n",
        "* Add comments to explain complexity rather than for everything."
      ]
    },
    {
      "cell_type": "markdown",
      "id": "842f460c",
      "metadata": {
        "id": "842f460c"
      },
      "source": [
        "## Lists\n",
        "A list is an ordered sequence of objects that can be of any type. We denote lists with square brackets. We can have different objects inside of these square brackets.\n",
        "\n",
        "If you're familiar with other programming languages, you might have heard of arrays. Lists are similar, but we'll talk about the differences later in the course.\n",
        "\n",
        "In Python, we can have lists with mixed data types, as with `li3` below.\n",
        "\n",
        "The list is the first data structure we're learning. Data structures are ways for us to organize information in a program. Think of them as a container around our data with different pros and cons."
      ]
    },
    {
      "cell_type": "code",
      "execution_count": null,
      "id": "4f8c66f4",
      "metadata": {
        "id": "4f8c66f4"
      },
      "outputs": [],
      "source": [
        "li = [1, 2, 3, 4, 5]\n",
        "li2 = ['a', 'b', 'c']\n",
        "li3 = [1, 2, 'a', True, 1.67]"
      ]
    },
    {
      "cell_type": "markdown",
      "id": "68c892d9",
      "metadata": {
        "id": "68c892d9"
      },
      "source": [
        "We can access items in a list similar to how we accessed characters in a string. If we try to access a third item in the list below, we'll get a \"list index out of range\" error since a third item doesn't exist."
      ]
    },
    {
      "cell_type": "code",
      "execution_count": null,
      "id": "5130a1b8",
      "metadata": {
        "id": "5130a1b8",
        "outputId": "01774146-3956-4d2f-f4d6-32f8e812b54f"
      },
      "outputs": [
        {
          "name": "stdout",
          "output_type": "stream",
          "text": [
            "notebooks\n",
            "sunglasses\n"
          ]
        }
      ],
      "source": [
        "amazon_cart = ['notebooks', 'sunglasses']\n",
        "print(amazon_cart[0])\n",
        "print(amazon_cart[1])"
      ]
    },
    {
      "cell_type": "markdown",
      "id": "9f9dd49c",
      "metadata": {
        "id": "9f9dd49c"
      },
      "source": [
        "## List Slicing\n",
        "We saw square brackets earlier, when we were working with strings. We can use list slicing as we did with string slicing earlier in the course.\n",
        "\n",
        "Unlike strings, lists are mutable. We can change our `amazon_cart`."
      ]
    },
    {
      "cell_type": "code",
      "execution_count": null,
      "id": "bd240859",
      "metadata": {
        "id": "bd240859",
        "outputId": "7baa2d8a-a05e-4bcb-98f4-d46a7d881cc7"
      },
      "outputs": [
        {
          "name": "stdout",
          "output_type": "stream",
          "text": [
            "['notebooks', 'sunglasses', 'toys', 'grapes']\n",
            "['notebooks', 'sunglasses']\n",
            "['notebooks', 'toys']\n",
            "4\n"
          ]
        }
      ],
      "source": [
        "amazon_cart2 = ['notebooks', 'sunglasses', 'toys', 'grapes']\n",
        "print(amazon_cart2)\n",
        "# Remember: with slicing, the second number is NOT inclusive\n",
        "print(amazon_cart2[0:2]) # get first two items in the cart\n",
        "print(amazon_cart2[0::2])\n",
        "print(len(amazon_cart2)) # We can also get the length of the list easily"
      ]
    },
    {
      "cell_type": "code",
      "execution_count": null,
      "id": "5eaac74e",
      "metadata": {
        "id": "5eaac74e",
        "outputId": "3399c300-c328-4184-a311-5e5bb577802a"
      },
      "outputs": [
        {
          "name": "stdout",
          "output_type": "stream",
          "text": [
            "['laptop', 'sunglasses', 'toys', 'grapes']\n",
            "['laptop', 'sunglasses', 'toys']\n"
          ]
        }
      ],
      "source": [
        "# Let's change our list!\n",
        "amazon_cart2[0] = \"laptop\"\n",
        "print(amazon_cart2)\n",
        "print(amazon_cart2[0:3]) # get item 1 - 3, not including 3"
      ]
    },
    {
      "cell_type": "markdown",
      "id": "f556684a",
      "metadata": {
        "id": "f556684a"
      },
      "source": [
        "Every time we slice a list, we create a new copy of our list. But, if we set our list equal to another list, if we modify the new list, we'll modify our old list as well.\n",
        "\n",
        "This happens because we're setting the lists equal to one another, and they're pointing to the same place in memory. This is different than when we slice a list because slicing makes a copy whereas when we set two lists equal to one another, we're creating conditions under which both lists will be modified."
      ]
    },
    {
      "cell_type": "code",
      "execution_count": null,
      "id": "a759e18f",
      "metadata": {
        "id": "a759e18f",
        "outputId": "7841ed26-8487-44cb-e202-33b5f2169d1f"
      },
      "outputs": [
        {
          "name": "stdout",
          "output_type": "stream",
          "text": [
            "['gum', 'sunglasses', 'toys', 'grapes']\n",
            "['gum', 'sunglasses', 'toys', 'grapes']\n"
          ]
        }
      ],
      "source": [
        "new_cart = amazon_cart2\n",
        "new_cart[0] = 'gum'\n",
        "print(amazon_cart2)\n",
        "print(new_cart)"
      ]
    },
    {
      "cell_type": "markdown",
      "id": "387a868a",
      "metadata": {
        "id": "387a868a"
      },
      "source": [
        "## Matrix\n",
        "A matrix is a way to describe multi-dimensional lists. It's a list with another list inside of it. We have a list with sub lists. These topics come up a lot in machine learning and image processing. Matrices allow us to do some heavy calculations under the hood."
      ]
    },
    {
      "cell_type": "code",
      "execution_count": null,
      "id": "6819a831",
      "metadata": {
        "id": "6819a831",
        "outputId": "98094d8d-4f1c-456c-a7a4-b9ba58fcfa6e"
      },
      "outputs": [
        {
          "name": "stdout",
          "output_type": "stream",
          "text": [
            "2\n",
            "8\n",
            "6\n"
          ]
        }
      ],
      "source": [
        "matrix = [[1, 2, 3], [4, 5, 6], [7, 8, 9]]\n",
        "print(matrix[0][1]) # print second item in the first list\n",
        "print(matrix[2][1]) # print the second item in the last list\n",
        "print(matrix[1][2]) # print the last item in the second list"
      ]
    },
    {
      "cell_type": "markdown",
      "id": "dd2c2cd0",
      "metadata": {
        "id": "dd2c2cd0"
      },
      "source": [
        "## List Methods\n",
        "We can perform a number of actions on lists with list methods. See the [W3Schools Resource](https://www.w3schools.com/python/python_ref_list.asp) for more Python list methods.\n",
        "\n",
        "Try out the examples below. And remember, if you're using [replit.com](https://replit.com/), as soon as you write the variable plus the dot, the conding environment will tell you which methods you can use."
      ]
    },
    {
      "cell_type": "code",
      "execution_count": null,
      "id": "b95debee",
      "metadata": {
        "scrolled": true,
        "id": "b95debee",
        "outputId": "8402861a-fdd4-459e-e84e-a5434d1540f2"
      },
      "outputs": [
        {
          "name": "stdout",
          "output_type": "stream",
          "text": [
            "5\n"
          ]
        }
      ],
      "source": [
        "basket = [1, 2, 3, 4, 5]\n",
        "# Remember, the length starts counting from one, not zero\n",
        "print(len(basket)) # calculate the length of the basket"
      ]
    },
    {
      "cell_type": "markdown",
      "id": "272101a4",
      "metadata": {
        "id": "272101a4"
      },
      "source": [
        "The `.append`, `.insert`, and `.extends` methods modify an existing list in place (in memory). They don't create a copy of the list that they modify.\n",
        "\n",
        "The `.extends` method takes an item we can iterate over, like a list, and modifies it."
      ]
    },
    {
      "cell_type": "code",
      "execution_count": null,
      "id": "f19a7cae",
      "metadata": {
        "id": "f19a7cae",
        "outputId": "a6d20022-35af-4502-a3fc-6c5326dc30a0"
      },
      "outputs": [
        {
          "name": "stdout",
          "output_type": "stream",
          "text": [
            "[1, 2, 3, 4, 5]\n",
            "[1, 2, 3, 4, 5, 100]\n",
            "[1, 2, 3, 4, 5, 100]\n"
          ]
        }
      ],
      "source": [
        "# adding items to a list\n",
        "print(basket)\n",
        "basket.append(100)\n",
        "new_list = basket\n",
        "print(basket)\n",
        "print(new_list)"
      ]
    },
    {
      "cell_type": "code",
      "execution_count": null,
      "id": "44beeacf",
      "metadata": {
        "id": "44beeacf",
        "outputId": "d394a247-335d-48f8-efee-4b52895b1614"
      },
      "outputs": [
        {
          "name": "stdout",
          "output_type": "stream",
          "text": [
            "[1, 2, 3, 4, 50, 5, 100]\n"
          ]
        }
      ],
      "source": [
        "# insert an item into a list\n",
        "basket.insert(4, 50)\n",
        "print(basket)"
      ]
    },
    {
      "cell_type": "code",
      "execution_count": null,
      "id": "d5eb071d",
      "metadata": {
        "id": "d5eb071d",
        "outputId": "ce26a2ea-43c9-4e05-e2a0-d22eb05b608c"
      },
      "outputs": [
        {
          "name": "stdout",
          "output_type": "stream",
          "text": [
            "[1, 2, 3, 4, 50, 5, 100, 101, 101]\n"
          ]
        }
      ],
      "source": [
        "# extending our list\n",
        "# 101 is added twice because this cell was printed more than once\n",
        "new_list = basket.extend([101])\n",
        "print(basket)"
      ]
    },
    {
      "cell_type": "code",
      "execution_count": null,
      "id": "804e798a",
      "metadata": {
        "id": "804e798a",
        "outputId": "54ccb64a-71fb-4749-f6f0-6721a2d5c378"
      },
      "outputs": [
        {
          "name": "stdout",
          "output_type": "stream",
          "text": [
            "[1, 2, 3, 4, 50, 5, 100, 101]\n"
          ]
        }
      ],
      "source": [
        "# removing items from our list\n",
        "basket.pop() # removes last item from the list\n",
        "print(basket)"
      ]
    },
    {
      "cell_type": "markdown",
      "id": "e1559fea",
      "metadata": {
        "id": "e1559fea"
      },
      "source": [
        "With `.pop`, we give it the index and with `.remove`, we give it the value. `.pop` also returns the value that was removed. The `.clear` method removes everything from the list."
      ]
    },
    {
      "cell_type": "code",
      "execution_count": null,
      "id": "5dc77777",
      "metadata": {
        "id": "5dc77777"
      },
      "outputs": [],
      "source": [
        "basket.pop()\n",
        "basket.pop(0) # remove item at index 0\n",
        "basket.remove(4) # remove 4 from the list"
      ]
    },
    {
      "cell_type": "code",
      "execution_count": null,
      "id": "564ce88d",
      "metadata": {
        "id": "564ce88d",
        "outputId": "7cb8e60b-edd9-453f-d2ec-e2979b7d8ae1"
      },
      "outputs": [
        {
          "name": "stdout",
          "output_type": "stream",
          "text": [
            "[2, 3, 50, 5, 100]\n"
          ]
        }
      ],
      "source": [
        "print(basket)"
      ]
    },
    {
      "cell_type": "code",
      "execution_count": null,
      "id": "cfecff2c",
      "metadata": {
        "id": "cfecff2c",
        "outputId": "ffd9a56b-a7b4-4bd3-d6d4-22dc9fd56fc6"
      },
      "outputs": [
        {
          "name": "stdout",
          "output_type": "stream",
          "text": [
            "[]\n"
          ]
        }
      ],
      "source": [
        "# remove all items from the list\n",
        "basket.clear()\n",
        "print(basket)"
      ]
    },
    {
      "cell_type": "markdown",
      "id": "c5268a48",
      "metadata": {
        "id": "c5268a48"
      },
      "source": [
        "## List Methods 2\n",
        "\n",
        "`.index` is a list method we can use. We give it a value, a start, and a stop.\n",
        "\n",
        "A Python keyword is a word that means something to the language that we cannot use to name a variable. Examples are `True` (a boolean) or `in`. We can use `in` to see if something is in a list.\n",
        "\n",
        "We can use `.count` to count how many times an item occurs."
      ]
    },
    {
      "cell_type": "code",
      "execution_count": null,
      "id": "95b42394",
      "metadata": {
        "id": "95b42394",
        "outputId": "57bf7325-bbf3-44b0-fee0-47f300385608"
      },
      "outputs": [
        {
          "name": "stdout",
          "output_type": "stream",
          "text": [
            "3\n",
            "3\n"
          ]
        }
      ],
      "source": [
        "basket = ['a', 'b', 'c', 'd', 'e']\n",
        "print(basket.index('d'))\n",
        "print(basket.index('d', 0, 4)) # item to search for, index to start search, index to stop search"
      ]
    },
    {
      "cell_type": "code",
      "execution_count": null,
      "id": "4fcb6cd0",
      "metadata": {
        "id": "4fcb6cd0",
        "outputId": "04d4c35b-ec63-4681-88c1-cd6efe7eba05"
      },
      "outputs": [
        {
          "name": "stdout",
          "output_type": "stream",
          "text": [
            "True\n",
            "False\n",
            "True\n",
            "1\n"
          ]
        }
      ],
      "source": [
        "print('d' in basket)\n",
        "print('x' in basket)\n",
        "print('i' in 'hi my name is Ian')\n",
        "print(basket.count('d'))"
      ]
    },
    {
      "cell_type": "markdown",
      "id": "2c14dea1",
      "metadata": {
        "id": "2c14dea1"
      },
      "source": [
        "## List Methods 3\n",
        "A continuation of list methods, in which we'll look at sorting and reversing the order of the items in a list."
      ]
    },
    {
      "cell_type": "code",
      "execution_count": null,
      "id": "05a8d266",
      "metadata": {
        "id": "05a8d266",
        "outputId": "7a467f41-a96f-4500-a9c7-eefc80808b3f"
      },
      "outputs": [
        {
          "name": "stdout",
          "output_type": "stream",
          "text": [
            "['a', 'b', 'x', 'c', 'd', 'e', 'd']\n"
          ]
        }
      ],
      "source": [
        "basket.append('d')\n",
        "basket.insert(2, 'x')\n",
        "print(basket)"
      ]
    },
    {
      "cell_type": "code",
      "execution_count": null,
      "id": "806f9334",
      "metadata": {
        "id": "806f9334",
        "outputId": "51b513bb-6f0e-4acb-d255-21949ce35ccf"
      },
      "outputs": [
        {
          "name": "stdout",
          "output_type": "stream",
          "text": [
            "['a', 'b', 'c', 'd', 'd', 'e', 'x']\n"
          ]
        }
      ],
      "source": [
        "basket.sort()\n",
        "print(basket)"
      ]
    },
    {
      "cell_type": "markdown",
      "id": "ecf8612f",
      "metadata": {
        "id": "ecf8612f"
      },
      "source": [
        "We can also use `sorted(basket)` if we want to produce a new list without modifying the existing one. It creates a new copy of the list as with list slicing.\n",
        "\n",
        "If we want to do the opposite of `.sort()`, we can use the `.reverse()` method. It's a good idea to use `.sort()` first, however, otherwise the `.reverse()` method may not work as expected."
      ]
    },
    {
      "cell_type": "code",
      "execution_count": null,
      "id": "fcb09c53",
      "metadata": {
        "id": "fcb09c53",
        "outputId": "6a1a8933-aea1-4eac-a946-2905ca9c663f"
      },
      "outputs": [
        {
          "name": "stdout",
          "output_type": "stream",
          "text": [
            "['x', 'e', 'd', 'd', 'c', 'b', 'a']\n"
          ]
        }
      ],
      "source": [
        "basket.sort()\n",
        "basket.reverse()\n",
        "print(basket)"
      ]
    },
    {
      "cell_type": "markdown",
      "id": "1d8b24bf",
      "metadata": {
        "id": "1d8b24bf"
      },
      "source": [
        "## Common List Patterns\n",
        "\n",
        "We'll now learn some useful tricks with lists. One that we've seen is `len()`, to figure out the length of a string or a list.\n",
        "\n",
        "Another is how to reverse a list, which we can do with the `.reverse()` method or with list slicing."
      ]
    },
    {
      "cell_type": "code",
      "execution_count": null,
      "id": "1b8f9af7",
      "metadata": {
        "id": "1b8f9af7",
        "outputId": "0d21f25a-d261-4e81-c8cf-703b1d0f21cc"
      },
      "outputs": [
        {
          "name": "stdout",
          "output_type": "stream",
          "text": [
            "['x', 'e', 'd', 'd', 'c', 'b', 'a']\n",
            "['a', 'b', 'c', 'd', 'd', 'e', 'x']\n"
          ]
        }
      ],
      "source": [
        "print(basket)\n",
        "basket.sort() # sort the list\n",
        "basket.reverse() # reverse the sorted list\n",
        "print(basket[::-1]) # reverse the last order of the sorted list with list slicing - creates new list"
      ]
    },
    {
      "cell_type": "markdown",
      "id": "cd2e95b0",
      "metadata": {
        "id": "cd2e95b0"
      },
      "source": [
        "If we want to generate a numbered list quickly, we can use range."
      ]
    },
    {
      "cell_type": "code",
      "execution_count": null,
      "id": "e0765348",
      "metadata": {
        "id": "e0765348",
        "outputId": "ba5fd334-e4c1-4a97-ffef-46230818b130"
      },
      "outputs": [
        {
          "name": "stdout",
          "output_type": "stream",
          "text": [
            "range(1, 10)\n",
            "[1, 2, 3, 4, 5, 6, 7, 8, 9]\n"
          ]
        }
      ],
      "source": [
        "print(range(1, 10))\n",
        "print(list(range(1, 10))) # start, stop (not inclusive)"
      ]
    },
    {
      "cell_type": "markdown",
      "id": "ec79474f",
      "metadata": {
        "id": "ec79474f"
      },
      "source": [
        "`.join()` takes an iterable data structure like a list and joins it together."
      ]
    },
    {
      "cell_type": "code",
      "execution_count": null,
      "id": "0d091ba3",
      "metadata": {
        "id": "0d091ba3",
        "outputId": "c2dcbca2-631b-4829-d0dc-dd8b1dd38c12"
      },
      "outputs": [
        {
          "name": "stdout",
          "output_type": "stream",
          "text": [
            "hi my name is Andrei\n"
          ]
        }
      ],
      "source": [
        "sentence = \" \"\n",
        "new_sentence = sentence.join([\"hi\", \"my\", \"name\", \"is\", \"Andrei\"])\n",
        "print(new_sentence)"
      ]
    },
    {
      "cell_type": "markdown",
      "id": "9ae59879",
      "metadata": {
        "id": "9ae59879"
      },
      "source": [
        "## List Unpacking\n",
        "In Python, we can use list unpacking to assign elements of a list to multiple variables. Try out the examples below in your Python environment."
      ]
    },
    {
      "cell_type": "code",
      "execution_count": null,
      "id": "08399771",
      "metadata": {
        "id": "08399771",
        "outputId": "4b9f3113-8ad0-41c4-e6bb-cb2c82ea10a7"
      },
      "outputs": [
        {
          "name": "stdout",
          "output_type": "stream",
          "text": [
            "1\n",
            "2\n",
            "3\n",
            "[4, 5, 6, 7, 8]\n",
            "9\n"
          ]
        }
      ],
      "source": [
        "a,b,c, *rest, d = [1, 2, 3, 4, 5, 6, 7, 8, 9]\n",
        "print(a)\n",
        "print(b)\n",
        "print(c)\n",
        "print(rest)\n",
        "print(d)"
      ]
    },
    {
      "cell_type": "markdown",
      "id": "3c0abf2b",
      "metadata": {
        "id": "3c0abf2b"
      },
      "source": [
        "We can also access elements using a for-loop."
      ]
    },
    {
      "cell_type": "code",
      "execution_count": null,
      "id": "69e16577",
      "metadata": {
        "id": "69e16577",
        "outputId": "00df6c12-0232-4b2b-d74a-dba685f4a0e0"
      },
      "outputs": [
        {
          "name": "stdout",
          "output_type": "stream",
          "text": [
            "Using indexing:\n",
            "1\n",
            "2\n",
            "3\n",
            "4\n",
            "5\n",
            "6\n",
            "7\n",
            "Printing the first half of the list:\n",
            "1\n",
            "2\n",
            "3\n",
            "Using iterator:\n",
            "1\n",
            "2\n",
            "3\n",
            "4\n",
            "5\n",
            "6\n",
            "7\n"
          ]
        }
      ],
      "source": [
        "list = [1,2,3,4,5,6,7]\n",
        "\n",
        "# There are different way to approach a for-loop\n",
        "# We will use the simple indexing way first!\n",
        "\n",
        "# this is for 0 (inclusive) up to the length of the list (exclusive)\n",
        "print(\"Using indexing:\")\n",
        "for i in range(0,len(list)):\n",
        "    print(list[i])\n",
        "\n",
        "# Suppose we want the first half of the list, we would change the parameters in range()\n",
        "print(\"Printing the first half of the list:\")\n",
        "for i in range(0, len(list)//2): # remember we can only use int for indexing, therefore we need double dividing to get an int!\n",
        "    print(list[i])\n",
        "\n",
        "# We can also use the iterator!\n",
        "print(\"Using iterator:\")\n",
        "for number in list:\n",
        "    print(number)"
      ]
    },
    {
      "cell_type": "markdown",
      "id": "6db20452",
      "metadata": {
        "id": "6db20452"
      },
      "source": [
        "## `None`\n",
        "\n",
        "With `None`, we saw that some methods worked on lists but didn't output anything. `None` is a special data type that exists in Python. Most programming languages have a data type like this to represent an absence of value. We'll see this being used a lot more as we get deeper into the course.\n",
        "\n",
        "In a video game for example, when a user is first created, it won't have any weapons at the beginning of the game, so we can use `None` to represent this."
      ]
    },
    {
      "cell_type": "code",
      "execution_count": null,
      "id": "58e5d1e6",
      "metadata": {
        "id": "58e5d1e6",
        "outputId": "c67c4ec3-a7a4-4fd6-c468-2af638ba09c6"
      },
      "outputs": [
        {
          "name": "stdout",
          "output_type": "stream",
          "text": [
            "None\n"
          ]
        }
      ],
      "source": [
        "weapons = None\n",
        "print(weapons)"
      ]
    },
    {
      "cell_type": "markdown",
      "id": "ed0762ac",
      "metadata": {
        "id": "ed0762ac"
      },
      "source": [
        "## Dictionaries\n",
        "In other languages, this data structure may be called an object or a hash map. Lists were the first data structure we learned in Python. With lists, they are easily ordered, and we can access them through indexes.\n",
        "\n",
        "Dictionaries are unordered (unlike lists) and have key-value pairs. A key is a string that allows us to access a value. We access a value by giving the dictionary a key. Python will then retrieve the value from memory based on the key we provide.\n",
        "\n",
        "Unlike lists, we cannot access anything in a dictionary through an index because they are unordered -- we don't know where in memory the keys and values are stored.\n",
        "\n",
        "In the example below, the dictionary is printed in order, but as a dictionary grows, the order is likely to change."
      ]
    },
    {
      "cell_type": "code",
      "execution_count": null,
      "id": "a9dba2b4",
      "metadata": {
        "id": "a9dba2b4",
        "outputId": "3d574ecc-5412-4339-ec0c-58b1b920aa7f"
      },
      "outputs": [
        {
          "name": "stdout",
          "output_type": "stream",
          "text": [
            "hello\n",
            "{'a': [1, 2, 3], 'b': 'hello', 'x': True}\n",
            "2\n"
          ]
        }
      ],
      "source": [
        "dictionary = {\n",
        "    'a': [1,2,3],\n",
        "    'b': 'hello',\n",
        "    'x': True\n",
        "}\n",
        "print(dictionary['b']) # hello\n",
        "print(dictionary) # {'a': [1, 2, 3], 'b': 'hello', 'x': True}\n",
        "print(dictionary['a'][1]) # 2"
      ]
    },
    {
      "cell_type": "markdown",
      "id": "de5a15c4",
      "metadata": {
        "id": "de5a15c4"
      },
      "source": [
        "We can also store dictionary items within a list."
      ]
    },
    {
      "cell_type": "code",
      "execution_count": null,
      "id": "2d7e9d69",
      "metadata": {
        "id": "2d7e9d69",
        "outputId": "e03767fa-a924-4aee-9021-f86365858d4d"
      },
      "outputs": [
        {
          "name": "stdout",
          "output_type": "stream",
          "text": [
            "3\n"
          ]
        }
      ],
      "source": [
        "my_list = [\n",
        "{\n",
        "    'a': [1,2,3],\n",
        "    'b': 'hello',\n",
        "    'x': True\n",
        "},\n",
        "{\n",
        "    'a': [4,5,6],\n",
        "    'b': 'hello',\n",
        "    'x': True\n",
        "}\n",
        "]\n",
        "print(my_list[0]['a'][2])"
      ]
    },
    {
      "cell_type": "markdown",
      "id": "34b1beac",
      "metadata": {
        "id": "34b1beac"
      },
      "source": [
        "## DEVELOPER FUNDAMENTALS III\n",
        "Our next fundamental is understanding data structures. A good programmer knows when to use which data structure because there are different trade-offs. This takes practice and experience, so throughout the course, we'll explore the pros and cons.\n",
        "\n",
        "A benefit to a list is that they are ordered whereas dictionaries are not, but dictionaries can hold more information through key-value pairs."
      ]
    },
    {
      "cell_type": "markdown",
      "id": "c93a6ed0",
      "metadata": {
        "id": "c93a6ed0"
      },
      "source": [
        "## Dictionary Keys\n",
        "Dictionary keys need to have a special property. The keys need to be immutable, meaning they cannot change. A dictionary key, for example, cannot be a list.\n",
        "\n",
        "A key must also be unique; otherwise it might lose its value. If we use the same key, a value will be overwritten.\n",
        "\n",
        "Typically, a dictionary key is something descriptive, like a string."
      ]
    },
    {
      "cell_type": "code",
      "execution_count": null,
      "id": "21319ef5",
      "metadata": {
        "id": "21319ef5",
        "outputId": "be9a62e3-ffe7-4bb1-b346-fe852864569f"
      },
      "outputs": [
        {
          "name": "stdout",
          "output_type": "stream",
          "text": [
            "{123: [1, 2, 3], True: 'hello', '100': True}\n"
          ]
        }
      ],
      "source": [
        "dictionary1 = {\n",
        "    123: [1,2,3],\n",
        "    True: 'hello',\n",
        "    '100': True\n",
        "}\n",
        "print(dictionary1) # {123: [1, 2, 3], True: 'hello', '100': True}"
      ]
    },
    {
      "cell_type": "markdown",
      "id": "76458850",
      "metadata": {
        "id": "76458850"
      },
      "source": [
        "## Dictionary Methods\n",
        "\n",
        "A way to access a key or to see if it exists is to use the `.get()` method."
      ]
    },
    {
      "cell_type": "code",
      "execution_count": null,
      "id": "0403365e",
      "metadata": {
        "id": "0403365e",
        "outputId": "6eb4ada9-ddf4-4924-fa8d-f31ff199beee"
      },
      "outputs": [
        {
          "name": "stdout",
          "output_type": "stream",
          "text": [
            "None\n",
            "55\n",
            "{'basket': [1, 2, 3], 'greet': 'hello'}\n"
          ]
        }
      ],
      "source": [
        "user = {\n",
        "    'basket': [1,2,3],\n",
        "    'greet': 'hello'\n",
        "}\n",
        "print(user.get('age')) # None\n",
        "print(user.get('age', 55)) # Add a default value of age 55 to the user\n",
        "print(user) # {'basket': [1, 2, 3], 'greet': 'hello'}"
      ]
    },
    {
      "cell_type": "markdown",
      "id": "a96a7ca0",
      "metadata": {
        "id": "a96a7ca0"
      },
      "source": [
        "We can add a key-value pair to a dictionary using the syntax below."
      ]
    },
    {
      "cell_type": "code",
      "execution_count": null,
      "id": "93879183",
      "metadata": {
        "id": "93879183",
        "outputId": "29f7ab88-2e6c-428c-e661-d76a805e112d"
      },
      "outputs": [
        {
          "name": "stdout",
          "output_type": "stream",
          "text": [
            "{'name': 'John'}\n"
          ]
        }
      ],
      "source": [
        "user2 = dict(name='John')\n",
        "print(user2) # {'name': 'John'}"
      ]
    },
    {
      "cell_type": "markdown",
      "id": "cb8e4e4a",
      "metadata": {
        "id": "cb8e4e4a"
      },
      "source": [
        "## Dictionary Methods 2\n",
        "We can use the in keyword with dictionaries just like we can with lists.\n",
        "\n",
        "We will go over the main methods dictionaries have, but there aren't too many.\n",
        "\n",
        " - `.keys()` - Returns the keys in the dictionary\n",
        " - `.values()` - Returns the values in the dictionary\n",
        " - `.clear()` - Remove all key-value pairs from the dictionary\n",
        " - `.copy()` - Returns a copy of the dictionary\n",
        " - `.pop(key)` - Returns the value corresponding to the given `key` and removes the key-value pair from the dictionary\n",
        " - `.popitem()` - Returns an arbitrary `(key, value)` pair from the dictionary and removes it\n",
        " - `.update(other_dict)` - Updates a key with a new value. It will add a new key item if the key doesn't exist"
      ]
    },
    {
      "cell_type": "code",
      "execution_count": null,
      "id": "e05735b6",
      "metadata": {
        "scrolled": true,
        "id": "e05735b6",
        "outputId": "e6c780ea-ba1f-4b6f-ea4f-0aa26734fb35"
      },
      "outputs": [
        {
          "name": "stdout",
          "output_type": "stream",
          "text": [
            "True\n",
            "False\n",
            "False\n",
            "True\n",
            "dict_items([('basket', [1, 2, 3]), ('greet', 'hello')])\n",
            "None\n",
            "{'basket': [1, 2, 3], 'greet': 'hello'}\n"
          ]
        }
      ],
      "source": [
        "print('basket' in user) # True\n",
        "print('size' in user) # False\n",
        "print('size' in user.keys()) # False\n",
        "print('hello' in user.values()) # True\n",
        "print(user.items()) # Includes tuples, which we'll discuss next\n",
        "user2 = user.copy()\n",
        "print(user.clear()) # None\n",
        "print(user2) #  {'basket': [1, 2, 3], 'greet': 'hello'}"
      ]
    },
    {
      "cell_type": "code",
      "execution_count": null,
      "id": "23928db0",
      "metadata": {
        "scrolled": true,
        "id": "23928db0",
        "outputId": "a39b23e4-8754-4ca3-ec1f-da364a86b7ea"
      },
      "outputs": [
        {
          "name": "stdout",
          "output_type": "stream",
          "text": [
            "hello\n",
            "None\n",
            "{'age': 55}\n"
          ]
        }
      ],
      "source": [
        "print(user2.pop('greet')) # hello\n",
        "print(user.update({'age': 55})) # None\n",
        "print(user) # {'age': 55}"
      ]
    },
    {
      "cell_type": "markdown",
      "id": "f6b9e2f6",
      "metadata": {
        "id": "f6b9e2f6"
      },
      "source": [
        "## Tuples\n",
        "A tuple is similar to a list, but unlike lists, we cannot modify them. We cannot add to them, reverse them, or sort them. Like a list, we can access an item in a tuple with an index and see if an item is in a tuple. If we want to create a list that we know will not be modified, a tuple is desirable because they are more performant than lists.\n",
        "\n",
        "We use parentheses to denote a tuple. A good example of a tuple would be a specific location with latitude and longitude that will not change. We can also use tuples as dictionary keys since they are immutable."
      ]
    },
    {
      "cell_type": "code",
      "execution_count": null,
      "id": "43c05daa",
      "metadata": {
        "id": "43c05daa",
        "outputId": "feec029b-16fc-4eb6-bc2f-0522396cd6c1"
      },
      "outputs": [
        {
          "name": "stdout",
          "output_type": "stream",
          "text": [
            "True\n",
            "dict_items([('age', 55)])\n"
          ]
        }
      ],
      "source": [
        "my_tuple = (1, 2, 3, 4, 5)\n",
        "print(5 in my_tuple) # True\n",
        "print(user.items()) # returns a tuple"
      ]
    },
    {
      "cell_type": "markdown",
      "id": "d4517840",
      "metadata": {
        "id": "d4517840"
      },
      "source": [
        "## Tuples 2\n",
        "\n",
        "We can slice a tuple just like we can slice a list. Methods we can use on tuples include `.count()` and `.index()`.\n",
        "\n",
        "- `.count(value)` - Returns how many times `value` appears in the tuple\n",
        "- `.index(value)` - Returns the index of the first appearance of `value` in the tuple"
      ]
    },
    {
      "cell_type": "code",
      "execution_count": null,
      "id": "dac496df",
      "metadata": {
        "scrolled": true,
        "id": "dac496df",
        "outputId": "912ac13a-e697-4c48-8863-b4e92c352ac3"
      },
      "outputs": [
        {
          "name": "stdout",
          "output_type": "stream",
          "text": [
            "(2,)\n",
            "1\n",
            "[4, 5]\n",
            "1\n",
            "4\n",
            "5\n"
          ]
        }
      ],
      "source": [
        "new_tuple = my_tuple[1:2]\n",
        "x, y, z, *other = my_tuple\n",
        "print(new_tuple) # (2,)\n",
        "print(x) # 1\n",
        "print(other) # [4, 5]\n",
        "print(my_tuple.count(5)) # 1\n",
        "print(my_tuple.index(5)) # 4\n",
        "print(len(my_tuple)) # 5"
      ]
    },
    {
      "cell_type": "markdown",
      "id": "6d066fa5",
      "metadata": {
        "id": "6d066fa5"
      },
      "source": [
        "## Sets\n",
        "If you're struggling with the material, it's okay. Hang in there! We are learning the concepts that will build our foundation for building projects.\n",
        "\n",
        "Sets are collections of unique objects. They look similar to a dictionary, but they do not have key-value pairs. Unlike lists, they are unordered and all values must be unique. There are no duplicates in set.\n",
        "\n",
        "Because sets are not ordered, they do not support indexing. To see if something exists in a set, we can use the in operator.\n",
        "\n",
        "We can add an item to a set with the `.add(value)` method. We can create a copy of a set with the `.copy()` method."
      ]
    },
    {
      "cell_type": "code",
      "execution_count": null,
      "id": "eea1b538",
      "metadata": {
        "id": "eea1b538",
        "outputId": "5f3fbf4d-2691-489f-daf0-eb3dab8a9675"
      },
      "outputs": [
        {
          "name": "stdout",
          "output_type": "stream",
          "text": [
            "{1, 2, 3, 4, 5, 100}\n",
            "True\n",
            "6\n"
          ]
        }
      ],
      "source": [
        "my_set = {1, 2, 3, 4, 5}\n",
        "my_set.add(100) # adds 100 to the set\n",
        "my_set.add(2) # doesn't get added\n",
        "print(my_set)\n",
        "print(1 in my_set) # True\n",
        "print(len(my_set)) # 6"
      ]
    },
    {
      "cell_type": "markdown",
      "id": "09d67be0",
      "metadata": {
        "id": "09d67be0"
      },
      "source": [
        "Create a set from a list with no duplicates."
      ]
    },
    {
      "cell_type": "code",
      "execution_count": null,
      "id": "bff90f51",
      "metadata": {
        "id": "bff90f51",
        "outputId": "03960bd6-15a1-4e54-93a0-766ba64d3e91"
      },
      "outputs": [
        {
          "name": "stdout",
          "output_type": "stream",
          "text": [
            "{1, 2, 3, 4, 5}\n"
          ]
        }
      ],
      "source": [
        "my_list = [1, 2, 3, 4, 5, 5]\n",
        "print(set(my_list))"
      ]
    },
    {
      "cell_type": "markdown",
      "id": "2aa5cdfd",
      "metadata": {
        "id": "2aa5cdfd"
      },
      "source": [
        "## Sets 2\n",
        "\n",
        "There are several methods we can use on sets. Code along and try these out in your python environment.\n",
        "\n",
        "- `.difference(other_set)` - Find the difference between two sets\n",
        "- `.discard(element)` - Removes an element from the set\n",
        "- `.difference_update(other_set)` - Updates the set so that the differences from another set are removed.\n",
        "- `.intersection(other_set)` - Finds the common elements between two sets\n",
        "- `.isdisjoint(other_set)` - Returns a boolean to test if the two sets have any elements in common. If so, `True` will be returned. Otherwise, `False` will be returned\n",
        "- `.issubset(other_set)` - Checks to see if a set is contained within another set and returns a boolean\n",
        "- `.issuperset(other_set)` - Check to see if a set is a superset of another set. It is similar to the `.issubset` method but asks the opposite question\n",
        "- `.union(other_set)` - Joins two sets together and removes duplicates. Returns a new set. Can also use the syntax `my_set | your_set`"
      ]
    },
    {
      "cell_type": "code",
      "execution_count": null,
      "id": "6ee1ec83",
      "metadata": {
        "id": "6ee1ec83",
        "outputId": "17dd59f7-4a4e-4f22-ea1a-4db6257bef78"
      },
      "outputs": [
        {
          "name": "stdout",
          "output_type": "stream",
          "text": [
            "{1, 2, 3}\n",
            "{6, 7, 8, 9, 10}\n",
            "{1, 2, 3, 4, 5, 6, 7, 8, 9, 10}\n"
          ]
        }
      ],
      "source": [
        "my_set = {1, 2, 3, 4, 5}\n",
        "your_set = {4, 5, 6, 7, 8, 9, 10}\n",
        "print(my_set.difference(your_set))\n",
        "print(your_set.difference(my_set))\n",
        "print(my_set.union(your_set))"
      ]
    },
    {
      "cell_type": "code",
      "execution_count": null,
      "id": "44e3d49f",
      "metadata": {
        "id": "44e3d49f",
        "outputId": "7382bd8a-ca2c-4c7c-e681-d957b6bdef30"
      },
      "outputs": [
        {
          "name": "stdout",
          "output_type": "stream",
          "text": [
            "{1, 2, 3, 4}\n"
          ]
        }
      ],
      "source": [
        "my_set.discard(5) # removes 4\n",
        "print(my_set)"
      ]
    },
    {
      "cell_type": "code",
      "execution_count": null,
      "id": "6f820716",
      "metadata": {
        "id": "6f820716",
        "outputId": "e80fcae7-a9cd-4ad7-d3a9-6817840ba941"
      },
      "outputs": [
        {
          "name": "stdout",
          "output_type": "stream",
          "text": [
            "{1, 2, 3}\n"
          ]
        }
      ],
      "source": [
        "my_set.difference_update(your_set)\n",
        "print(my_set)"
      ]
    },
    {
      "cell_type": "code",
      "execution_count": null,
      "id": "ea33acd9",
      "metadata": {
        "id": "ea33acd9",
        "outputId": "0cbf6503-8f71-4381-acc9-5a7424b84834"
      },
      "outputs": [
        {
          "name": "stdout",
          "output_type": "stream",
          "text": [
            "{4, 5}\n"
          ]
        }
      ],
      "source": [
        "print(my_set.intersection(your_set)) # The original sets have two elements in common: {4, 5}"
      ]
    },
    {
      "cell_type": "code",
      "execution_count": null,
      "id": "d71840f5",
      "metadata": {
        "id": "d71840f5",
        "outputId": "1b938e4c-1bcd-4240-90df-24c8f19a2491"
      },
      "outputs": [
        {
          "name": "stdout",
          "output_type": "stream",
          "text": [
            "False\n"
          ]
        }
      ],
      "source": [
        "print(my_set.isdisjoint(your_set)) # Returns False because the two sets share values."
      ]
    },
    {
      "cell_type": "code",
      "execution_count": null,
      "id": "439fe177",
      "metadata": {
        "id": "439fe177",
        "outputId": "35ff5d14-d1ec-464e-d086-44d6f3eb9070"
      },
      "outputs": [
        {
          "name": "stdout",
          "output_type": "stream",
          "text": [
            "True\n",
            "True\n",
            "False\n"
          ]
        }
      ],
      "source": [
        "my_set = {4, 5}\n",
        "your_set = {4, 5, 6, 7, 8, 9}\n",
        "print(my_set.issubset(your_set)) # True - the entirety of my_set is in your_set\n",
        "print(your_set.issuperset(my_set)) # True - the entirety of my_set is within your_set, so your_set is the superset of my_set\n",
        "print(my_set.issuperset(your_set)) # False"
      ]
    }
  ],
  "metadata": {
    "kernelspec": {
      "display_name": "Python 3 (ipykernel)",
      "language": "python",
      "name": "python3"
    },
    "language_info": {
      "codemirror_mode": {
        "name": "ipython",
        "version": 3
      },
      "file_extension": ".py",
      "mimetype": "text/x-python",
      "name": "python",
      "nbconvert_exporter": "python",
      "pygments_lexer": "ipython3",
      "version": "3.7.2"
    },
    "colab": {
      "provenance": []
    }
  },
  "nbformat": 4,
  "nbformat_minor": 5
}